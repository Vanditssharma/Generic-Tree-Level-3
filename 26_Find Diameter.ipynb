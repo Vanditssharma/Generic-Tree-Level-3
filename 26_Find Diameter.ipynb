{
 "cells": [
  {
   "cell_type": "code",
   "execution_count": 1,
   "metadata": {},
   "outputs": [],
   "source": [
    "class Node:\n",
    "    \n",
    "    def __init__(self,data):\n",
    "        \n",
    "        self.data = data\n",
    "        self.children = list()"
   ]
  },
  {
   "cell_type": "code",
   "execution_count": 2,
   "metadata": {},
   "outputs": [],
   "source": [
    "def treeInput(arr):\n",
    "    stack = []\n",
    "    \n",
    "    if len(arr)==0 or arr[0]==-1:\n",
    "        return None\n",
    "    for i in arr:\n",
    "        if i == -1:\n",
    "            stack.pop()\n",
    "        else: \n",
    "            node = Node(i)\n",
    "            \n",
    "            if len(stack)>0:\n",
    "                stack[-1].children.append(node)\n",
    "                \n",
    "            else:\n",
    "                root = node\n",
    "                \n",
    "            stack.append(node)\n",
    "        \n",
    "    return root\n",
    "        \n",
    "    "
   ]
  },
  {
   "cell_type": "code",
   "execution_count": 3,
   "metadata": {},
   "outputs": [],
   "source": [
    "import queue\n",
    "def LevelOrder(root):\n",
    "    c=0\n",
    "    mainQ = queue.Queue()\n",
    "    childQ = queue.Queue()\n",
    "    mainQ.put(root)\n",
    "    \n",
    "    while mainQ.empty() is False:\n",
    "        curr_node = mainQ.get()\n",
    "        print(curr_node.data,end=' ')\n",
    "        \n",
    "        for child in curr_node.children:\n",
    "            childQ.put(child)\n",
    "        \n",
    "        if mainQ.empty() is True:\n",
    "            mainQ = childQ\n",
    "            childQ = queue.Queue()\n",
    "            print()\n",
    "        \n",
    "        "
   ]
  },
  {
   "cell_type": "code",
   "execution_count": 4,
   "metadata": {},
   "outputs": [],
   "source": [
    "# Calculate Diameter but return height\n",
    "def diameter(root):\n",
    "    \n",
    "    global dia\n",
    "    deepHeight = -1\n",
    "    sDeepHeight = -1\n",
    "    \n",
    "    for child in root.children:\n",
    "        ht = diameter(child)\n",
    "        if (ht >deepHeight):\n",
    "            sDeepHeight = deepHeight\n",
    "            deepHeight = ht\n",
    "        elif (ht>sDeepHeight):\n",
    "            sDeepHeight=ht\n",
    "        \n",
    "    if(deepHeight+sDeepHeight+2>dia):\n",
    "        dia = deepHeight+sDeepHeight+2\n",
    "    deepHeight+=1\n",
    "    return deepHeight\n",
    "    "
   ]
  },
  {
   "cell_type": "code",
   "execution_count": 8,
   "metadata": {},
   "outputs": [
    {
     "data": {
      "text/plain": [
       "5"
      ]
     },
     "execution_count": 8,
     "metadata": {},
     "output_type": "execute_result"
    }
   ],
   "source": [
    "arr = [10,20,-50,-1,-60,-1,-1,30,-70,-1,80,-110,-1,120,-1,-1,90,-1,-1,40,-100,-1,-1,-1]\n",
    "root = treeInput(arr)\n",
    "\n",
    "dia = 0\n",
    "\n",
    "diameter(root)\n",
    "dia"
   ]
  }
 ],
 "metadata": {
  "kernelspec": {
   "display_name": "Python 3",
   "language": "python",
   "name": "python3"
  },
  "language_info": {
   "codemirror_mode": {
    "name": "ipython",
    "version": 3
   },
   "file_extension": ".py",
   "mimetype": "text/x-python",
   "name": "python",
   "nbconvert_exporter": "python",
   "pygments_lexer": "ipython3",
   "version": "3.8.5"
  }
 },
 "nbformat": 4,
 "nbformat_minor": 4
}
